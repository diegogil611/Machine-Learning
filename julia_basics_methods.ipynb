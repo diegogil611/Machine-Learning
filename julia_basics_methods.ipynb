{
 "cells": [
  {
   "cell_type": "markdown",
   "metadata": {},
   "source": [
    "# Julia Basics\n",
    "\n",
    "Julia is a general purpose language mainly used for numerical methods and analysis. The primary paradigm for Julia is that of *multiple dispatch*, which we will talk more about in the **Functions** section.\n",
    "\n",
    "## Base types\n",
    "\n",
    "Unlike Python and R, Julia's default types include several abstractions and specific representations that can depend on the platform. For example, in the case of integers, the abstract type is `Integer`, but integers are handled by default as `Int32` in 32-bit systems and as `Int64` in 64-bit systems. It also supports 8 and 16 bit representations, as well as arbitrary precision. We will not be covering these topics right now. Instead we will be working with the 64-bit versions of each type and point out some of the type hierarchy.\n",
    "\n",
    "### **`Int64`**\n",
    "\n",
    "Integer numbers. A subtype of `Integer` which itself is a subtype of `Real`. `Real` is itself a subtype of `Number`."
   ]
  },
  {
   "cell_type": "code",
   "execution_count": 1,
   "metadata": {},
   "outputs": [
    {
     "data": {
      "text/plain": [
       "Int64"
      ]
     },
     "metadata": {},
     "output_type": "display_data"
    }
   ],
   "source": [
    "typeof(4)"
   ]
  },
  {
   "cell_type": "code",
   "execution_count": 2,
   "metadata": {},
   "outputs": [
    {
     "data": {
      "text/plain": [
       "true"
      ]
     },
     "metadata": {},
     "output_type": "display_data"
    }
   ],
   "source": [
    "typeof(4) <: Integer <: Real <: Number"
   ]
  },
  {
   "cell_type": "markdown",
   "metadata": {},
   "source": [
    "### **`Float64`**\n",
    "\n",
    "Double precision floating point number. Subtype of `AbstractFloat`"
   ]
  },
  {
   "cell_type": "code",
   "execution_count": 3,
   "metadata": {},
   "outputs": [
    {
     "data": {
      "text/plain": [
       "Float64"
      ]
     },
     "metadata": {},
     "output_type": "display_data"
    }
   ],
   "source": [
    "typeof(0.5)"
   ]
  },
  {
   "cell_type": "code",
   "execution_count": 4,
   "metadata": {},
   "outputs": [
    {
     "data": {
      "text/plain": [
       "true"
      ]
     },
     "metadata": {},
     "output_type": "display_data"
    }
   ],
   "source": [
    "typeof(0.5) <: AbstractFloat <: Real"
   ]
  },
  {
   "cell_type": "markdown",
   "metadata": {},
   "source": [
    "### **`Vector`, `Matrix` and `Array`**\n",
    "\n",
    "Julia implements n-dimensional arrays. The simplest one is vectors"
   ]
  },
  {
   "cell_type": "code",
   "execution_count": 5,
   "metadata": {},
   "outputs": [
    {
     "data": {
      "text/plain": [
       "3-element Vector{Int64}:\n",
       " 1\n",
       " 2\n",
       " 3"
      ]
     },
     "metadata": {},
     "output_type": "display_data"
    }
   ],
   "source": [
    "vector_example = [1; 2; 3]"
   ]
  },
  {
   "cell_type": "markdown",
   "metadata": {},
   "source": [
    "To supress the output when assigning a value, we can use a semicolon"
   ]
  },
  {
   "cell_type": "code",
   "execution_count": 6,
   "metadata": {},
   "outputs": [],
   "source": [
    "vector_example = [1; 2; 3];"
   ]
  },
  {
   "cell_type": "markdown",
   "metadata": {},
   "source": [
    "We can get more information about the type with the `typeof()` function. In this case, the `Vector` contains entries of data type `Int64`. Its type is synonymous with `Array{Int64, 1}`, a 1-dimensional array that contains entries of type `Int64`"
   ]
  },
  {
   "cell_type": "code",
   "execution_count": 7,
   "metadata": {},
   "outputs": [
    {
     "data": {
      "text/plain": [
       "Vector{Int64}\u001b[90m (alias for \u001b[39m\u001b[90mArray{Int64, 1}\u001b[39m\u001b[90m)\u001b[39m"
      ]
     },
     "metadata": {},
     "output_type": "display_data"
    }
   ],
   "source": [
    "typeof(vector_example)"
   ]
  },
  {
   "cell_type": "markdown",
   "metadata": {},
   "source": [
    "Matrices are defined by having columns. Each column can be defined by separating the entries with double semicolons:"
   ]
  },
  {
   "cell_type": "code",
   "execution_count": 8,
   "metadata": {},
   "outputs": [
    {
     "data": {
      "text/plain": [
       "1×3 Matrix{Int64}:\n",
       " 1  2  3"
      ]
     },
     "metadata": {},
     "output_type": "display_data"
    }
   ],
   "source": [
    "[1;; 2;; 3]"
   ]
  },
  {
   "cell_type": "markdown",
   "metadata": {},
   "source": [
    "While single colons are appended as rows of the same column."
   ]
  },
  {
   "cell_type": "code",
   "execution_count": 9,
   "metadata": {},
   "outputs": [
    {
     "data": {
      "text/plain": [
       "2×3 Matrix{Int64}:\n",
       " 1  3  5\n",
       " 2  4  6"
      ]
     },
     "metadata": {},
     "output_type": "display_data"
    }
   ],
   "source": [
    "matrix_example = [1; 2;; 3; 4;; 5; 6]"
   ]
  },
  {
   "cell_type": "code",
   "execution_count": 10,
   "metadata": {},
   "outputs": [
    {
     "data": {
      "text/plain": [
       "Matrix{Int64}\u001b[90m (alias for \u001b[39m\u001b[90mArray{Int64, 2}\u001b[39m\u001b[90m)\u001b[39m"
      ]
     },
     "metadata": {},
     "output_type": "display_data"
    }
   ],
   "source": [
    "typeof(matrix_example)"
   ]
  },
  {
   "cell_type": "markdown",
   "metadata": {},
   "source": [
    "Generally, we can define more dimensions by adding more semicolons. Lower dimensions are appended first (rows in a column, then columns in the 3rd dimension, etc)"
   ]
  },
  {
   "cell_type": "code",
   "execution_count": 11,
   "metadata": {},
   "outputs": [
    {
     "data": {
      "text/plain": [
       "2×2×2 Array{Int64, 3}:\n",
       "[:, :, 1] =\n",
       " 1  3\n",
       " 2  4\n",
       "\n",
       "[:, :, 2] =\n",
       " 5  7\n",
       " 6  8"
      ]
     },
     "metadata": {},
     "output_type": "display_data"
    }
   ],
   "source": [
    "[1; 2;; 3; 4;;; 5; 6;; 7; 8]"
   ]
  },
  {
   "cell_type": "markdown",
   "metadata": {},
   "source": [
    "### **`Set`**\n",
    "\n",
    "Similar to sets in Python. However, the types in a Julia set need not be hashable."
   ]
  },
  {
   "cell_type": "code",
   "execution_count": 12,
   "metadata": {},
   "outputs": [
    {
     "data": {
      "text/plain": [
       "Set{Int64} with 3 elements:\n",
       "  4\n",
       "  2\n",
       "  1"
      ]
     },
     "metadata": {},
     "output_type": "display_data"
    }
   ],
   "source": [
    "Set([1, 2, 2, 4])"
   ]
  },
  {
   "cell_type": "code",
   "execution_count": 13,
   "metadata": {},
   "outputs": [
    {
     "data": {
      "text/plain": [
       "Set{Any} with 3 elements:\n",
       "  2\n",
       "  [2, 4]\n",
       "  1"
      ]
     },
     "metadata": {},
     "output_type": "display_data"
    }
   ],
   "source": [
    "Set([1, 2, [2, 4]])"
   ]
  },
  {
   "cell_type": "markdown",
   "metadata": {},
   "source": [
    "### **`Dict`**\n",
    "\n",
    "Similar to Python dictionaries"
   ]
  },
  {
   "cell_type": "code",
   "execution_count": 14,
   "metadata": {},
   "outputs": [
    {
     "data": {
      "text/plain": [
       "Dict{String, Int64} with 3 entries:\n",
       "  \"c\" => 3\n",
       "  \"b\" => 2\n",
       "  \"a\" => 1"
      ]
     },
     "metadata": {},
     "output_type": "display_data"
    }
   ],
   "source": [
    "Dict(\"a\" => 1, \"b\" => 2, \"c\" => 3)"
   ]
  },
  {
   "cell_type": "markdown",
   "metadata": {},
   "source": [
    "## Control Flow\n",
    "\n",
    "### **`while`**"
   ]
  },
  {
   "cell_type": "code",
   "execution_count": 15,
   "metadata": {},
   "outputs": [
    {
     "name": "stdout",
     "output_type": "stream",
     "text": [
      "The quick brown fox jumped over the lazy do\n",
      "The quick brown fox jumped over the lazy d\n",
      "The quick brown fox jumped over the lazy \n",
      "The quick brown fox jumped over the lazy\n",
      "The quick brown fox jumped over the laz\n",
      "The quick brown fox jumped over the la\n",
      "The quick brown fox jumped over the l\n",
      "The quick brown fox jumped over the \n",
      "The quick brown fox jumped over the\n",
      "The quick brown fox jumped over th\n",
      "The quick brown fox jumped over t\n",
      "The quick brown fox jumped over \n",
      "The quick brown fox jumped over\n",
      "The quick brown fox jumped ove\n",
      "The quick brown fox jumped ov\n",
      "The quick brown fox jumped o\n",
      "The quick brown fox jumped \n",
      "The quick brown fox jumped\n",
      "The quick brown fox jumpe\n",
      "The quick brown fox jump\n",
      "The quick brown fox jum\n",
      "The quick brown fox ju\n",
      "The quick brown fox j\n",
      "The quick brown fox \n",
      "The quick brown fox\n",
      "The quick brown fo\n",
      "The quick brown f\n",
      "The quick brown \n",
      "The quick brown\n",
      "The quick brow\n",
      "The quick bro\n",
      "The quick br\n",
      "The quick b\n",
      "The quick \n",
      "The quick\n",
      "The quic\n",
      "The qui\n",
      "The qu\n",
      "The q\n",
      "The \n",
      "The\n",
      "Th\n",
      "T\n",
      "\n",
      "Finished\n"
     ]
    }
   ],
   "source": [
    "string_example = \"The quick brown fox jumped over the lazy dog\"\n",
    "\n",
    "while string_example != \"\"\n",
    "        string_example = string_example[1: end-1]\n",
    "        println(string_example)\n",
    "end\n",
    "println(\"Finished\")"
   ]
  },
  {
   "cell_type": "markdown",
   "metadata": {},
   "source": [
    "### **`for`**"
   ]
  },
  {
   "cell_type": "code",
   "execution_count": 16,
   "metadata": {},
   "outputs": [
    {
     "name": "stdout",
     "output_type": "stream",
     "text": [
      "1\n",
      "4\n",
      "9\n",
      "16\n",
      "25\n",
      "Finished"
     ]
    }
   ],
   "source": [
    "for number in [1, 2, 3, 4, 5]\n",
    "        println(number ^ 2)\n",
    "end\n",
    "print(\"Finished\")"
   ]
  },
  {
   "cell_type": "markdown",
   "metadata": {},
   "source": [
    "### **`if`, `elif` and `else`**"
   ]
  },
  {
   "cell_type": "code",
   "execution_count": 17,
   "metadata": {},
   "outputs": [
    {
     "name": "stdout",
     "output_type": "stream",
     "text": [
      "Positive\n"
     ]
    }
   ],
   "source": [
    "number = 1\n",
    "if number > 0\n",
    "        println(\"Positive\")\n",
    "elseif number < 0\n",
    "        println(\"Negative\")\n",
    "else\n",
    "        println(\"Zero\")\n",
    "end"
   ]
  },
  {
   "cell_type": "markdown",
   "metadata": {},
   "source": [
    "## Functions\n",
    "\n",
    "Functions in Julia are defined with the `function` statement"
   ]
  },
  {
   "cell_type": "code",
   "execution_count": 18,
   "metadata": {},
   "outputs": [
    {
     "data": {
      "text/plain": [
       "reverse_string (generic function with 1 method)"
      ]
     },
     "execution_count": 18,
     "metadata": {},
     "output_type": "execute_result"
    }
   ],
   "source": [
    "function reverse_string(string:: String):: String\n",
    "        reverse_string = \"\"\n",
    "        for character in string\n",
    "                reverse_string = character * reverse_string\n",
    "        end\n",
    "        return reverse_string\n",
    "end"
   ]
  },
  {
   "cell_type": "code",
   "execution_count": 19,
   "metadata": {},
   "outputs": [
    {
     "name": "stdout",
     "output_type": "stream",
     "text": [
      "god yzal eht revo depmuj xof nworb kciuq ehT\n"
     ]
    }
   ],
   "source": [
    "string_example = \"The quick brown fox jumped over the lazy dog\"\n",
    "println(reverse_string(string_example))"
   ]
  },
  {
   "cell_type": "markdown",
   "metadata": {},
   "source": [
    "## Structs and methods\n",
    "\n",
    "Julia does not have the same system for inheritance and class definitions as Python or R. Instead, it uses **composition**: new classes contain previous classes, rather than being defined by them. This composition can be done through *structs*, which are composite types. When building these structs, we can specify a constructor by creating a function in the struct definition named the same as the struct. Then, this function will call the `new()` function to construct our custom struct"
   ]
  },
  {
   "cell_type": "code",
   "execution_count": 20,
   "metadata": {},
   "outputs": [],
   "source": [
    "struct SpecialList\n",
    "        base_list::Vector\n",
    "        element_indices::Dict\n",
    "        function SpecialList(base_list::Vector)\n",
    "                element_indices = Dict()\n",
    "                for (index, element) in enumerate(base_list)\n",
    "                        element_indices[index] = element\n",
    "                end\n",
    "                new(base_list, element_indices)\n",
    "        end\n",
    "end\n"
   ]
  },
  {
   "cell_type": "code",
   "execution_count": 21,
   "metadata": {},
   "outputs": [],
   "source": [
    "special_list_example = SpecialList([\"Alicia\", \"José\", \"Mario\", \"Rebeca\"]);"
   ]
  },
  {
   "cell_type": "code",
   "execution_count": 22,
   "metadata": {},
   "outputs": [
    {
     "data": {
      "text/plain": [
       "4-element Vector{String}:\n",
       " \"Alicia\"\n",
       " \"José\"\n",
       " \"Mario\"\n",
       " \"Rebeca\""
      ]
     },
     "execution_count": 22,
     "metadata": {},
     "output_type": "execute_result"
    }
   ],
   "source": [
    "special_list_example.base_list"
   ]
  },
  {
   "cell_type": "code",
   "execution_count": 23,
   "metadata": {},
   "outputs": [
    {
     "data": {
      "text/plain": [
       "Dict{Any, Any} with 4 entries:\n",
       "  4 => \"Rebeca\"\n",
       "  2 => \"José\"\n",
       "  3 => \"Mario\"\n",
       "  1 => \"Alicia\""
      ]
     },
     "execution_count": 23,
     "metadata": {},
     "output_type": "execute_result"
    }
   ],
   "source": [
    "special_list_example.element_indices"
   ]
  },
  {
   "cell_type": "markdown",
   "metadata": {},
   "source": [
    "Inheritance is not used in Julia. It is replaced by the *multiple dispatch* paradigm\n",
    "\n",
    "Multiple dispatch means that we can generate define a function with the same name but different procedures depending on the type of its arguments. For example, we can define a function that prints each element of a vector in order"
   ]
  },
  {
   "cell_type": "code",
   "execution_count": 24,
   "metadata": {},
   "outputs": [
    {
     "data": {
      "text/plain": [
       "print_vector_elements (generic function with 1 method)"
      ]
     },
     "execution_count": 24,
     "metadata": {},
     "output_type": "execute_result"
    }
   ],
   "source": [
    "function print_vector_elements(vector:: Vector)\n",
    "        for element in vector\n",
    "                println(element)\n",
    "        end\n",
    "end\n"
   ]
  },
  {
   "cell_type": "code",
   "execution_count": 25,
   "metadata": {},
   "outputs": [
    {
     "name": "stdout",
     "output_type": "stream",
     "text": [
      "Alicia\n",
      "José\n",
      "Mario\n",
      "Rebeca\n"
     ]
    }
   ],
   "source": [
    "print_vector_elements([\"Alicia\", \"José\", \"Mario\", \"Rebeca\"])"
   ]
  },
  {
   "cell_type": "markdown",
   "metadata": {},
   "source": [
    "We can define the same function name but for our `SpecialList` type. In this case, we can define it to print the key-value pairs in its `element_indices` attribute"
   ]
  },
  {
   "cell_type": "code",
   "execution_count": 26,
   "metadata": {},
   "outputs": [
    {
     "data": {
      "text/plain": [
       "print_vector_elements (generic function with 2 methods)"
      ]
     },
     "execution_count": 26,
     "metadata": {},
     "output_type": "execute_result"
    }
   ],
   "source": [
    "function print_vector_elements(special_list:: SpecialList)\n",
    "        for (key, value) in special_list.element_indices\n",
    "                println(\"The key \", key, \" maps to the value \", value)\n",
    "        end\n",
    "end"
   ]
  },
  {
   "cell_type": "code",
   "execution_count": 27,
   "metadata": {},
   "outputs": [
    {
     "name": "stdout",
     "output_type": "stream",
     "text": [
      "The key 4 maps to the value Rebeca\n",
      "The key 2 maps to the value José\n",
      "The key 3 maps to the value Mario\n",
      "The key 1 maps to the value Alicia\n"
     ]
    }
   ],
   "source": [
    "print_vector_elements(special_list_example)"
   ]
  }
 ],
 "metadata": {
  "kernelspec": {
   "display_name": "Julia 1.10.5",
   "language": "julia",
   "name": "julia-1.10"
  },
  "language_info": {
   "file_extension": ".jl",
   "mimetype": "application/julia",
   "name": "julia",
   "version": "1.10.5"
  }
 },
 "nbformat": 4,
 "nbformat_minor": 2
}
